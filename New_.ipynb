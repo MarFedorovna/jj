#!/usr/bin/env python
# coding: utf-8

# In[8]:


import os
import numpy as np
np.set_printoptions(precision=4)
import sklearn
import pandas as pd
#df = pd.read_csv("C:\\Users\\user\\Desktop\\ГУНБ\\sample_submission.csv","C:\\Users\\user\\Desktop\\ГУНБИН\\test.csv","C:\\Users\\user\\Desktop\\ГУНБИН\\train.csv")
data1 = pd.read_csv("C:\\Users\\user\\Desktop\\ГУНБ\\test.csv")
data2 = pd.read_csv("C:\\Users\\user\\Desktop\\ГУНБ\\train.csv")
data3 = pd.read_csv("C:\\Users\\user\\Desktop\\ГУНБ\\sample_submission.csv")
#data3 = pd.read_csv("C:\\Users\\user\\Desktop\\ГУНБ\\sample_submission.csv")
#data1
#df2
#df3


# In[9]:


data2


# In[10]:


data1


# In[11]:


from sklearn.tree import DecisionTreeClassifier
from sklearn.model_selection import train_test_split
from sklearn.pipeline import make_pipeline
from sklearn.preprocessing import StandardScaler
X = data2.drop("Target", axis = 1)
y = data2["Target"]

X_train, X_test, y_train, y_test = train_test_split(X, y, random_state=1)
from sklearn.ensemble import RandomForestClassifier

# Создаём модель леса из сотни деревьев
Learn_model = RandomForestClassifier(n_estimators=100, 
                               bootstrap = True,
                               max_features = 'sqrt')
# Обучаем на тренировочных данных
Learn_model = Learn_model.fit(X_train, y_train)

# Создаём и обучаем дерево принятия решений
#RSEED = 100
#Learn_model = DecisionTreeClassifier(random_state=RSEED)
Learn_model


# In[12]:


model = Learn_model.predict(data1.drop("index", axis = 1))


# In[17]:


model


# In[18]:





# In[20]:





# In[21]:





# In[22]:





# In[13]:


ss = pd.DataFrame(data1["index"]).join(pd.DataFrame({"Target":model}))


# In[14]:


ss.to_csv("sample_submission_end.csv", sep=',', index=False)


# # Всё что ниже не нужно

# In[ ]:





# In[ ]:





# In[ ]:




